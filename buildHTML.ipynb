{
 "cells": [
  {
   "cell_type": "code",
   "execution_count": null,
   "id": "initial_id",
   "metadata": {
    "collapsed": true
   },
   "outputs": [],
   "source": [
    ""
   ]
  },
  {
   "metadata": {
    "ExecuteTime": {
     "end_time": "2024-06-21T15:03:34.068757Z",
     "start_time": "2024-06-21T15:03:33.262947Z"
    }
   },
   "cell_type": "code",
   "source": [
    "import plotly.graph_objects as go\n",
    "import pandas as pd\n",
    "\n",
    "# Define the file path\n",
    "file_path = 'data/ScadaFlow_13-06-2024_To_20-06-2024-cleaned.xlsx'\n",
    "\n",
    "# Define the specific columns for each sheet / Future wish: Add mathematical Formulas Volumetric Flow G Previous Rate (SCFM) * 24\n",
    "columns_volume = ['ReportDate', 'Volumetric Flow G Previous Rate (SCFM) * 24', 'Volumetric Flow L Previous Rate (bbl/hr) * 24', 'Volumetric Flow G App Previous Rate (SCFM) * 24']\n",
    "columns_line = ['ReportDate', 'Line Pressure (psi)', 'Line Temperature (F)']\n",
    "columns_h20 = ['ReportDate', 'D Pppl (InH2O)', 'D Pr (InH2O)', 'D Pt (InH2O)']\n",
    "\n",
    "# Load the specific sheets with the defined columns\n",
    "volume_df = pd.read_excel(file_path, sheet_name='Volume', usecols=columns_volume)\n",
    "line_df = pd.read_excel(file_path, sheet_name='Line', usecols=columns_line)\n",
    "h20_df = pd.read_excel(file_path, sheet_name='H20', usecols=columns_h20)\n",
    "\n",
    "# Convert ReportDate Column to datetime\n",
    "volume_df['ReportDate'] = pd.to_datetime(volume_df['ReportDate'])\n",
    "line_df['ReportDate'] = pd.to_datetime(line_df['ReportDate'])\n",
    "h20_df['ReportDate'] = pd.to_datetime(h20_df['ReportDate'])\n",
    "\n",
    "# Create plots for each data set\n",
    "volume_fig = go.Figure()\n",
    "volume_fig.add_trace(go.Scatter(x=volume_df['ReportDate'], y=volume_df['Volumetric Flow G Previous Rate (SCFM) * 24'], mode='lines', name='Volumetric Flow G (MCFD)'))\n",
    "volume_fig.add_trace(go.Scatter(x=volume_df['ReportDate'], y=volume_df['Volumetric Flow L Previous Rate (bbl/hr) * 24'], mode='lines', name='Volumetric Flow L (bbl/hr)'))\n",
    "volume_fig.add_trace(go.Scatter(x=volume_df['ReportDate'], y=volume_df['Volumetric Flow G App Previous Rate (SCFM) * 24'], mode='lines', name='Volumetric Flow G App (MCFD)'))\n",
    "volume_fig.update_layout(title='Volume Comparison', xaxis_title='Report Date', yaxis_title='Flow Rate')\n",
    "\n",
    "line_fig = go.Figure()\n",
    "line_fig.add_trace(go.Scatter(x=line_df['ReportDate'], y=line_df['Line Pressure (psi)'], mode='lines', name='Line Pressure (psi)'))\n",
    "line_fig.add_trace(go.Scatter(x=line_df['ReportDate'], y=line_df['Line Temperature (F)'], mode='lines', name='Line Temperature (F)'))\n",
    "line_fig.update_layout(title='Line Comparison', xaxis_title='Report Date', yaxis_title='Value')\n",
    "\n",
    "h20_fig = go.Figure()\n",
    "h20_fig.add_trace(go.Scatter(x=h20_df['ReportDate'], y=h20_df['D Pppl (InH2O)'], mode='lines', name='D Pppl (InH2O)'))\n",
    "h20_fig.add_trace(go.Scatter(x=h20_df['ReportDate'], y=h20_df['D Pr (InH2O)'], mode='lines', name='D Pr (InH2O)'))\n",
    "h20_fig.add_trace(go.Scatter(x=h20_df['ReportDate'], y=h20_df['D Pt (InH2O)'], mode='lines', name='D Pt (InH2O)'))\n",
    "h20_fig.update_layout(title='H20 Comparison', xaxis_title='Report Date', yaxis_title='InH2O')\n",
    "\n",
    "# Save plots as HTML/Convert to variable names\n",
    "volume_fig.write_html(\"volume_chart.html\")\n",
    "line_fig.write_html(\"line_chart.html\")\n",
    "h20_fig.write_html(\"h2o_chart.html\")\n"
   ],
   "id": "5970c41cc6308470",
   "outputs": [
    {
     "name": "stderr",
     "output_type": "stream",
     "text": [
      "/opt/anaconda3/lib/python3.11/site-packages/_plotly_utils/basevalidators.py:106: FutureWarning:\n",
      "\n",
      "The behavior of DatetimeProperties.to_pydatetime is deprecated, in a future version this will return a Series containing python datetime objects instead of an ndarray. To retain the old behavior, call `np.array` on the result\n",
      "\n"
     ]
    }
   ],
   "execution_count": 1
  }
 ],
 "metadata": {
  "kernelspec": {
   "display_name": "Python 3",
   "language": "python",
   "name": "python3"
  },
  "language_info": {
   "codemirror_mode": {
    "name": "ipython",
    "version": 2
   },
   "file_extension": ".py",
   "mimetype": "text/x-python",
   "name": "python",
   "nbconvert_exporter": "python",
   "pygments_lexer": "ipython2",
   "version": "2.7.6"
  }
 },
 "nbformat": 4,
 "nbformat_minor": 5
}
